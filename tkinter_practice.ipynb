{
 "cells": [
  {
   "cell_type": "code",
   "execution_count": null,
   "metadata": {},
   "outputs": [],
   "source": [
    "import pyspark as py\n",
    "import pandas as pd\n",
    "from pyspark.sql import SparkSession\n",
    "from pyspark.sql.functions import *\n",
    "\n",
    "# Creating Spark Session\n",
    "sp = SparkSession.builder.appName(\"Customer\").getOrCreate()"
   ]
  },
  {
   "cell_type": "code",
   "execution_count": null,
   "metadata": {},
   "outputs": [],
   "source": [
    "df_cust = sp.read.format(\"jdbc\") \\\n",
    "    .option(\"url\", \"jdbc:mysql://localhost:3306/creditcard_capstone\") \\\n",
    "    .option(\"dbtable\", \"CDW_SAPP_CUSTOMER\") \\\n",
    "    .option(\"user\", \"root\") \\\n",
    "    .option(\"password\", \"password\") \\\n",
    "    .load()"
   ]
  },
  {
   "cell_type": "code",
   "execution_count": null,
   "metadata": {},
   "outputs": [],
   "source": [
    "df_cust.show()"
   ]
  },
  {
   "cell_type": "code",
   "execution_count": null,
   "metadata": {},
   "outputs": [],
   "source": [
    "df_pd_cust = df_cust.toPandas()\n",
    "print(df_pd_cust)\n",
    "list_ssn = list(df_pd_cust['SSN'])\n",
    "list_ssn"
   ]
  },
  {
   "cell_type": "code",
   "execution_count": null,
   "metadata": {},
   "outputs": [],
   "source": [
    "\n",
    "# Import module\n",
    "from tkinter import *\n",
    "  \n",
    "# Create object\n",
    "root = Tk()\n",
    "  \n",
    "# Adjust size\n",
    "root.geometry( \"500x500\" )\n",
    "  \n",
    "# Change the label text\n",
    "def show():\n",
    "    ssn = clicked.get()\n",
    "    print(ssn)\n",
    "    result = df_cust.where(df_cust['SSN'] == ssn)\n",
    "    print(result.show())\n",
    "    print(result.collect()[0][7])\n",
    "    var = 'FIRST NAME : ' + result.collect()[0][7]\n",
    "    label.config(text = var)\n",
    "\n",
    "# Define a function to close the window\n",
    "def close():\n",
    "   #win.destroy()\n",
    "   root.destroy()\n",
    "   root.quit()\n",
    "\n",
    "# Dropdown menu options\n",
    "options = list_ssn\n",
    "  \n",
    "# datatype of menu text\n",
    "clicked = StringVar()\n",
    "  \n",
    "# initial menu text\n",
    "clicked.set( \"123456789\" )\n",
    "  \n",
    "# Create Dropdown menu\n",
    "drop = OptionMenu( root , clicked , *options )\n",
    "# print(clicked)\n",
    "drop.pack()\n",
    "  \n",
    "\n",
    "# Create button, it will change label text\n",
    "button = Button( root , text = \"Show Me\" , command = show ).pack()\n",
    "  \n",
    "# Create Label\n",
    "label = Label( root , text = clicked )\n",
    "label.pack()\n",
    "  \n",
    "# Execute tkinter\n",
    "root.mainloop()"
   ]
  },
  {
   "cell_type": "code",
   "execution_count": null,
   "metadata": {},
   "outputs": [],
   "source": [
    "# Create Dropdown menu\n",
    "drop = OptionMenu( root , clicked , *options )\n",
    "drop.pack()\n",
    "  \n",
    "# Create button, it will change label text\n",
    "button = Button( root , text = \"click Me\" , command = show ).pack()\n",
    "  \n",
    "# Create Label\n",
    "label = Label( root , text = \" \" )\n",
    "label.pack()"
   ]
  }
 ],
 "metadata": {
  "kernelspec": {
   "display_name": "Python 3",
   "language": "python",
   "name": "python3"
  },
  "language_info": {
   "codemirror_mode": {
    "name": "ipython",
    "version": 3
   },
   "file_extension": ".py",
   "mimetype": "text/x-python",
   "name": "python",
   "nbconvert_exporter": "python",
   "pygments_lexer": "ipython3",
   "version": "3.10.4"
  },
  "orig_nbformat": 4,
  "vscode": {
   "interpreter": {
    "hash": "369f2c481f4da34e4445cda3fffd2e751bd1c4d706f27375911949ba6bb62e1c"
   }
  }
 },
 "nbformat": 4,
 "nbformat_minor": 2
}
