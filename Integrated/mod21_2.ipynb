{
 "cells": [
  {
   "cell_type": "code",
   "execution_count": null,
   "metadata": {},
   "outputs": [],
   "source": [
    "#2)    Used to display the number and total values of transactions for a given type."
   ]
  },
  {
   "cell_type": "code",
   "execution_count": 1,
   "metadata": {},
   "outputs": [],
   "source": [
    "import pyspark as py\n",
    "import pandas as pd\n",
    "from pyspark.sql import SparkSession\n",
    "from pyspark.sql.functions import *\n",
    "import pyinputplus as pyip\n",
    "# import pymysql\n",
    "\n",
    "# Creating Spark Session\n",
    "sp = SparkSession.builder.appName(\"Customer\").getOrCreate()\n",
    "\n",
    "df_sp_cc = sp.read.format(\"jdbc\") \\\n",
    "    .option(\"url\", \"jdbc:mysql://localhost:3306/creditcard_capstone\")  \\\n",
    "    .option(\"dbtable\", \"cdw_sapp_credit_card\") \\\n",
    "    .option(\"user\", \"root\") \\\n",
    "    .option(\"password\", \"password\") \\\n",
    "    .load()"
   ]
  },
  {
   "cell_type": "code",
   "execution_count": 2,
   "metadata": {},
   "outputs": [],
   "source": [
    "pd_credit = df_sp_cc.toPandas()\n"
   ]
  },
  {
   "cell_type": "code",
   "execution_count": 3,
   "metadata": {},
   "outputs": [
    {
     "data": {
      "text/plain": [
       "['Bills', 'Healthcare', 'Gas', 'Education', 'Test', 'Entertainment', 'Grocery']"
      ]
     },
     "execution_count": 3,
     "metadata": {},
     "output_type": "execute_result"
    }
   ],
   "source": [
    "list_type = list(pd_credit['TRANSACTION_TYPE'].drop_duplicates())\n",
    "list_type"
   ]
  },
  {
   "cell_type": "code",
   "execution_count": 4,
   "metadata": {},
   "outputs": [
    {
     "name": "stdout",
     "output_type": "stream",
     "text": [
      "Enter Transaction type (0 to Exit) : Blank values are not allowed.\n",
      "Enter Transaction type (0 to Exit) : "
     ]
    }
   ],
   "source": [
    "# def validate_ttype(ttype, list_ttype):\n",
    "#     if ttype.capitalize() in list_ttype:\n",
    "#         return True\n",
    "#     else:\n",
    "#         if ttype != '0':\n",
    "#             print(f\"Not a valid Transaction type.Choose from {list_ttype} or enter 0 to exit\")            \n",
    "#         return False\n",
    "# def show_trans_type_val(df_sp_cc,tran_type):\n",
    "#     print(\"inside the function\",tran_type)\n",
    "#     data1=df_sp_cc.select('transaction_type','transaction_value').\\\n",
    "#         where(df_sp_cc['transaction_type']==tran_type)\\\n",
    "#         .agg(round(sum('transaction_value'),2),count('transaction_type'))\n",
    "#     data1.show()\n",
    "# while True:\n",
    "#         ttype = pyip.inputStr(\"Enter Transaction type (0 to Exit) : \")\n",
    "#         if validate_ttype(ttype, list_type):\n",
    "#             print(\"--------------------------\\n Transaction Type - {}\".format(ttype))\n",
    "#             show_trans_type_val(df_sp_cc,ttype)\n",
    "#         else:    \n",
    "#             if ttype == '0':\n",
    "#                break\n",
    "        \n",
    "#             continue\n"
   ]
  },
  {
   "cell_type": "code",
   "execution_count": 4,
   "metadata": {},
   "outputs": [
    {
     "name": "stdout",
     "output_type": "stream",
     "text": [
      "in while\n",
      "Enter Transaction type (0 to Exit):after input\n",
      "in the if cond \n",
      "inside the function Bills\n",
      "+--------------------------------+-----------------------+\n",
      "|round(sum(transaction_value), 2)|count(transaction_type)|\n",
      "+--------------------------------+-----------------------+\n",
      "|                       351405.28|                   6861|\n",
      "+--------------------------------+-----------------------+\n",
      "\n",
      "in while\n",
      "Enter Transaction type (0 to Exit):after input\n"
     ]
    }
   ],
   "source": [
    "def show_trans_type_val(df_cc,tran_type):\n",
    "    print(\"inside the function:transaction-type-\",tran_type)\n",
    "    data1=df_sp_cc.select('transaction_type','transaction_value').\\\n",
    "        where(df_sp_cc['transaction_type']==tran_type)\\\n",
    "        .agg(round(sum('transaction_value'),2),count('transaction_type'))\n",
    "    data1.show()\n",
    "\n",
    "def tran_type_value():\n",
    "    while True:\n",
    "        ##2)    Used to display the number and total values of transactions for a given type.\n",
    "        print(\"in while\")\n",
    "        #tran_type=pyip.inputStr(\"enter transaction type or 0 to exit:\")\n",
    "        tran_type = pyip.inputStr(\"Enter Transaction type (0 to Exit):\")\n",
    "        print(\"after input\")\n",
    "        list_type = list(pd_credit['TRANSACTION_TYPE'].drop_duplicates())\n",
    "        \n",
    "        if tran_type in  list_type:\n",
    "            print(\"in the if cond :after validating\")\n",
    "            show_trans_type_val(df_sp_cc,tran_type)\n",
    "        elif tran_type=='0':\n",
    "            break\n",
    "        \n",
    "        else:    \n",
    "            print(\"enter valid type:\")\n",
    "            continue\n"
   ]
  },
  {
   "cell_type": "code",
   "execution_count": null,
   "metadata": {},
   "outputs": [],
   "source": [
    "\n",
    "    \n",
    "\n"
   ]
  }
 ],
 "metadata": {
  "kernelspec": {
   "display_name": "capenv",
   "language": "python",
   "name": "python3"
  },
  "language_info": {
   "codemirror_mode": {
    "name": "ipython",
    "version": 3
   },
   "file_extension": ".py",
   "mimetype": "text/x-python",
   "name": "python",
   "nbconvert_exporter": "python",
   "pygments_lexer": "ipython3",
   "version": "3.10.4"
  },
  "orig_nbformat": 4,
  "vscode": {
   "interpreter": {
    "hash": "18ca8625cc90478395c078d47e945be01e36895d904b6e6fc3f4a08c3080455c"
   }
  }
 },
 "nbformat": 4,
 "nbformat_minor": 2
}
