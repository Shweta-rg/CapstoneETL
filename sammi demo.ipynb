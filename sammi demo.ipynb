{
 "cells": [
  {
   "cell_type": "code",
   "execution_count": null,
   "metadata": {},
   "outputs": [],
   "source": [
    "import pyinputplus as pyip\n",
    "\n",
    "print(\"Calculator Menu\")\n",
    "print(\"1.Add\")\n",
    "print(\"2.Subtract\")\n",
    "print(\"3.Multiply\")\n",
    "print(\"4.Divide\")\n"
   ]
  },
  {
   "cell_type": "code",
   "execution_count": null,
   "metadata": {},
   "outputs": [],
   "source": [
    "while True: \n",
    "    menu= pyip.inputMenu(['Add', 'Subtract', 'Multiply', 'Divide', 'Exit'], numbered=True)\n",
    "\n",
    "\n",
    "#selection= pyip.inputInt(\"Choose a numeric selection from above: \", min=1)\n",
    "\n",
    "    if menu == \"Add\":\n",
    "        print(\"this is the option to add two numbers\")\n",
    "        num1= int(input(\"Enter the first number: \"))\n",
    "        num2= int(input(\"Enter the second number: \"))\n",
    "    #total= num1+ num2\n",
    "        print(\"The total for those numbers is \" + str(num1 +num2))\n",
    "    elif menu == \"Subtract\":\n",
    "        print(\"this is the option to subtract two numbers\")\n",
    "        num1= int(input(\"Enter the first number: \"))\n",
    "        num2= int(input(\"Enter the second number: \"))\n",
    "    #total= num1+ num2\n",
    "        print(\"The total for those numbers is \" + str(num1 - num2))\n",
    "    elif menu == \"Multiply\": \n",
    "        pass\n",
    "    elif menu == \"Divide\":\n",
    "        pass\n",
    "    elif menu == \"Exit\":\n",
    "        break\n",
    "    else:\n",
    "        print(\"Please make a valid selection\")\n"
   ]
  }
 ],
 "metadata": {
  "kernelspec": {
   "display_name": "Python 3",
   "language": "python",
   "name": "python3"
  },
  "language_info": {
   "name": "python",
   "version": "3.10.4"
  },
  "orig_nbformat": 4,
  "vscode": {
   "interpreter": {
    "hash": "369f2c481f4da34e4445cda3fffd2e751bd1c4d706f27375911949ba6bb62e1c"
   }
  }
 },
 "nbformat": 4,
 "nbformat_minor": 2
}
