{
 "cells": [
  {
   "cell_type": "code",
   "execution_count": 18,
   "metadata": {},
   "outputs": [],
   "source": [
    "import findspark\n",
    "findspark.init()\n",
    "findspark.find()\n",
    "\n",
    "from pyspark.sql import SparkSession\n",
    "from pyspark.sql.functions import*\n",
    "\n",
    "from pyspark.sql.types import StructType, StructField, StringType, IntegerType, BooleanType, DoubleType\n",
    "\n",
    "import pandas as pd"
   ]
  },
  {
   "cell_type": "code",
   "execution_count": 19,
   "metadata": {},
   "outputs": [],
   "source": [
    "spark = SparkSession.builder.appName(\"customer\").getOrCreate()\n"
   ]
  },
  {
   "cell_type": "code",
   "execution_count": 20,
   "metadata": {},
   "outputs": [],
   "source": [
    "df_cc= spark.read.load('json\\cdw_sapp_credit.json', format='json',header=True,inferSchema=True)"
   ]
  },
  {
   "cell_type": "code",
   "execution_count": 21,
   "metadata": {},
   "outputs": [
    {
     "name": "stdout",
     "output_type": "stream",
     "text": [
      "root\n",
      " |-- BRANCH_CODE: long (nullable = true)\n",
      " |-- CREDIT_CARD_NO: string (nullable = true)\n",
      " |-- CUST_SSN: long (nullable = true)\n",
      " |-- DAY: long (nullable = true)\n",
      " |-- MONTH: long (nullable = true)\n",
      " |-- TRANSACTION_ID: long (nullable = true)\n",
      " |-- TRANSACTION_TYPE: string (nullable = true)\n",
      " |-- TRANSACTION_VALUE: double (nullable = true)\n",
      " |-- YEAR: long (nullable = true)\n",
      "\n"
     ]
    }
   ],
   "source": [
    "df_cc.printSchema()"
   ]
  },
  {
   "attachments": {},
   "cell_type": "markdown",
   "metadata": {},
   "source": [
    "lets change the data type of each date column ot string so as to convert into concat"
   ]
  },
  {
   "cell_type": "code",
   "execution_count": null,
   "metadata": {},
   "outputs": [],
   "source": [
    "\n"
   ]
  },
  {
   "cell_type": "code",
   "execution_count": 22,
   "metadata": {},
   "outputs": [],
   "source": [
    "#pyspark.sql.functions.lpad(col, len, pad)[source]\n",
    "\n",
    "\n",
    "df_cc = df_cc.withColumn('MONTH', lpad(df_cc['MONTH'], 2, '0'))\n"
   ]
  },
  {
   "cell_type": "code",
   "execution_count": 23,
   "metadata": {},
   "outputs": [],
   "source": [
    "df_cc = df_cc.withColumn('DAY', lpad(df_cc['DAY'], 2, '0'))\n"
   ]
  },
  {
   "cell_type": "code",
   "execution_count": 24,
   "metadata": {},
   "outputs": [],
   "source": [
    "df_cc=df_cc.withColumn('DAY',df_cc['DAY'].cast('String'))\n",
    "df_cc=df_cc.withColumn('MONTH',df_cc['MONTH'].cast('String'))\n",
    "df_cc=df_cc.withColumn('YEAR',df_cc['YEAR'].cast('String'))"
   ]
  },
  {
   "cell_type": "code",
   "execution_count": 25,
   "metadata": {},
   "outputs": [],
   "source": [
    "#concat to yyyyddmm format\n",
    "df_cc=df_cc.withColumn('TIMEID',concat(df_cc['YEAR'],df_cc['MONTH'],df_cc['DAY']))"
   ]
  },
  {
   "cell_type": "code",
   "execution_count": 26,
   "metadata": {},
   "outputs": [],
   "source": [
    "df_cc=df_cc.drop('DAY','MONTH','YEAR')"
   ]
  },
  {
   "cell_type": "code",
   "execution_count": 27,
   "metadata": {},
   "outputs": [
    {
     "name": "stdout",
     "output_type": "stream",
     "text": [
      "root\n",
      " |-- BRANCH_CODE: long (nullable = true)\n",
      " |-- CREDIT_CARD_NO: string (nullable = true)\n",
      " |-- CUST_SSN: long (nullable = true)\n",
      " |-- TRANSACTION_ID: long (nullable = true)\n",
      " |-- TRANSACTION_TYPE: string (nullable = true)\n",
      " |-- TRANSACTION_VALUE: double (nullable = true)\n",
      " |-- TIMEID: string (nullable = true)\n",
      "\n"
     ]
    }
   ],
   "source": [
    "df_cc.printSchema()"
   ]
  },
  {
   "cell_type": "code",
   "execution_count": 28,
   "metadata": {},
   "outputs": [],
   "source": [
    "df_cc=df_cc.withColumnRenamed('CREDIT_CARD_NO','CUST_CC')"
   ]
  },
  {
   "attachments": {},
   "cell_type": "markdown",
   "metadata": {},
   "source": [
    "loading in db"
   ]
  },
  {
   "cell_type": "code",
   "execution_count": 29,
   "metadata": {},
   "outputs": [],
   "source": [
    "df_cc.write.format(\"jdbc\") \\\n",
    "  .mode(\"append\") \\\n",
    "  .option(\"url\", \"jdbc:mysql://localhost:3306/creditcard_capstone\") \\\n",
    "  .option(\"dbtable\", \"CDW_SAPP_CREDIT_CARD\") \\\n",
    "  .option(\"user\", \"root\") \\\n",
    "  .option(\"password\", \"password\") \\\n",
    "  .save()\n"
   ]
  },
  {
   "cell_type": "code",
   "execution_count": 30,
   "metadata": {},
   "outputs": [
    {
     "name": "stdout",
     "output_type": "stream",
     "text": [
      "+-----------+----------------+---------+--------------+----------------+-----------------+--------+\n",
      "|BRANCH_CODE|         CUST_CC| CUST_SSN|TRANSACTION_ID|TRANSACTION_TYPE|TRANSACTION_VALUE|  TIMEID|\n",
      "+-----------+----------------+---------+--------------+----------------+-----------------+--------+\n",
      "|        180|4210653342242023|123451310|         45069|           Bills|            77.79|20180315|\n",
      "|        114|4210653349028689|123459988|             1|       Education|             78.9|20180214|\n",
      "|        156|4210653312478046|123455692|         22562|         Grocery|            91.08|20180813|\n",
      "|        114|4210653312478046|123455692|         22563|           Bills|             22.2|20180626|\n",
      "|         35|4210653349028689|123459988|             2|   Entertainment|            14.24|20180320|\n",
      "|         47|4210653312478046|123455692|         22564|         Grocery|            77.54|20180320|\n",
      "|        160|4210653349028689|123459988|             3|         Grocery|             56.7|20180708|\n",
      "|         17|4210653312478046|123455692|         22565|             Gas|            84.05|20180708|\n",
      "|        114|4210653349028689|123459988|             4|   Entertainment|            59.73|20180419|\n",
      "|        135|4210653312478046|123455692|         22566|   Entertainment|             99.0|20181018|\n",
      "|         93|4210653349028689|123459988|             5|             Gas|             3.59|20181010|\n",
      "|        164|4210653349028689|123459988|             6|       Education|             6.89|20180528|\n",
      "|        109|4210653312478046|123455692|         22567|       Education|            59.86|20180909|\n",
      "|         26|4210653312478046|123455692|         22568|            Test|            56.12|20180412|\n",
      "|        119|4210653349028689|123459988|             7|   Entertainment|            43.39|20180519|\n",
      "|         81|4210653312478046|123455692|         22569|      Healthcare|            92.32|20180815|\n",
      "|         23|4210653349028689|123459988|             8|             Gas|            95.39|20180808|\n",
      "|        173|4210653312478046|123455692|         22570|   Entertainment|             9.03|20180220|\n",
      "|        104|4210653312478046|123455692|         22571|         Grocery|            69.41|20180721|\n",
      "|        105|4210653312478046|123455692|         22572|       Education|            46.16|20180405|\n",
      "+-----------+----------------+---------+--------------+----------------+-----------------+--------+\n",
      "only showing top 20 rows\n",
      "\n"
     ]
    }
   ],
   "source": [
    "df_new1 = spark.read.format(\"jdbc\") \\\n",
    "  .option(\"url\", \"jdbc:mysql://localhost:3306/creditcard_capstone\") \\\n",
    "  .option(\"dbtable\", \"CDW_SAPP_CREDIT_CARD\") \\\n",
    "  .option(\"user\", \"root\") \\\n",
    "  .option(\"password\", \"password\") \\\n",
    "  .load()\n",
    "\n",
    "df_new1.show()\n"
   ]
  }
 ],
 "metadata": {
  "kernelspec": {
   "display_name": "Python 3",
   "language": "python",
   "name": "python3"
  },
  "language_info": {
   "codemirror_mode": {
    "name": "ipython",
    "version": 3
   },
   "file_extension": ".py",
   "mimetype": "text/x-python",
   "name": "python",
   "nbconvert_exporter": "python",
   "pygments_lexer": "ipython3",
   "version": "3.10.4"
  },
  "orig_nbformat": 4,
  "vscode": {
   "interpreter": {
    "hash": "369f2c481f4da34e4445cda3fffd2e751bd1c4d706f27375911949ba6bb62e1c"
   }
  }
 },
 "nbformat": 4,
 "nbformat_minor": 2
}
