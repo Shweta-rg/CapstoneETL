{
 "cells": [
  {
   "cell_type": "code",
   "execution_count": 1,
   "metadata": {},
   "outputs": [],
   "source": [
    "import pyspark as py\n",
    "import pandas as pd\n",
    "from pyspark.sql import SparkSession\n",
    "from pyspark.sql.functions import *\n",
    "import pyinputplus as pyip\n",
    "import pymysql\n",
    "\n",
    "# Creating Spark Session\n",
    "sp = SparkSession.builder.appName(\"Customer\").getOrCreate()"
   ]
  },
  {
   "cell_type": "code",
   "execution_count": null,
   "metadata": {},
   "outputs": [],
   "source": [
    "df_cust = sp.read.format(\"jdbc\") \\\n",
    "    .option(\"url\", \"jdbc:mysql://localhost:3306/creditcard_capstone\") \\\n",
    "    .option(\"dbtable\", \"CDW_SAPP_CUSTOMER\") \\\n",
    "    .option(\"user\", \"root\") \\\n",
    "    .option(\"password\", \"password\") \\\n",
    "    .load()"
   ]
  },
  {
   "cell_type": "code",
   "execution_count": null,
   "metadata": {},
   "outputs": [],
   "source": [
    "df_pd_cust = df_cust.toPandas()\n",
    "list_ssn = list(df_pd_cust['SSN'])\n",
    "list_ssn"
   ]
  },
  {
   "cell_type": "code",
   "execution_count": null,
   "metadata": {},
   "outputs": [],
   "source": [
    "result = df_cust.where(df_cust['SSN'] == '123452342')"
   ]
  },
  {
   "cell_type": "code",
   "execution_count": null,
   "metadata": {},
   "outputs": [],
   "source": [
    "# df_pd_cust.loc[df_pd_cust.loc[:,'SSN'] == 123452342,:].head()\n",
    "# result.printSchema()\n",
    "# print(result.show())\n",
    "# print(result.collect()[0][7])\n",
    "# var = 'FIRST NAME : ' + result.collect()[0][7]\n",
    "# print(var)"
   ]
  },
  {
   "attachments": {},
   "cell_type": "markdown",
   "metadata": {},
   "source": [
    "Req-2.2 - Customer Details\n",
    "Check the existing account details of a customer."
   ]
  },
  {
   "cell_type": "code",
   "execution_count": null,
   "metadata": {},
   "outputs": [],
   "source": [
    "def validate_ssn(var_ssn):\n",
    "    if var_ssn in list_ssn:\n",
    "        return True\n",
    "    else:\n",
    "        if var_ssn != 0:\n",
    "            print(\"Not a valid SSN. Try again or enter 0 to exit\")            \n",
    "        return False\n",
    "\n",
    "def show_info(var_ssn):\n",
    "    result = df_cust.where(df_cust['SSN'] == var_ssn)\n",
    "    \n",
    "    result['FIRST_NAME', 'MIDDLE_NAME', 'LAST_NAME', 'CUST_EMAIL', 'CUST_PHONE', 'FULL_STREET_ADDRESS', 'CUST_CITY', \\\n",
    "                'CUST_STATE', 'CUST_ZIP', 'CREDIT_CARD_NO'].show()\n",
    "   \n",
    "\n",
    "while True:\n",
    "    var_ssn = pyip.inputInt(\"Enter 9-digit SSN : \")\n",
    "    var_ssn\n",
    "    if validate_ssn(var_ssn):\n",
    "        show_info()\n",
    "        break\n",
    "    else:\n",
    "        if var_ssn == 0:\n",
    "            break\n",
    "        continue\n"
   ]
  },
  {
   "attachments": {},
   "cell_type": "markdown",
   "metadata": {},
   "source": [
    "Req-2.2 - Customer Details\n",
    "Modify the existing account details of a customer"
   ]
  },
  {
   "cell_type": "code",
   "execution_count": null,
   "metadata": {},
   "outputs": [],
   "source": [
    "list_col = ['FIRST_NAME', 'MIDDLE_NAME', 'LAST_NAME', 'CUST_EMAIL', 'CUST_PHONE', 'FULL_STREET_ADDRESS', 'CUST_CITY', \\\n",
    "                'CUST_STATE', 'CUST_ZIP', 'EXIT']\n",
    "\n",
    "def validate_ssn(var_ssn):\n",
    "    if var_ssn in list_ssn:\n",
    "        return True\n",
    "    else:\n",
    "        if var_ssn != 0:\n",
    "            print(\"Not a valid SSN. Try again or enter 0 to exit\")            \n",
    "        return False\n",
    "\n",
    "def validate_ans(var_ans):\n",
    "    if var_ans == 'Y' :\n",
    "        return True\n",
    "    else:\n",
    "        if var_ans != 'N':\n",
    "            print(\"Enter Y to edit or N to exit\")            \n",
    "        return False\n",
    "\n",
    "def edit_info():\n",
    "    while True:\n",
    "        var_ssn = pyip.inputInt(\"Enter 9-digit SSN : \")\n",
    "        if validate_ssn(var_ssn):\n",
    "            result = df_cust.where(df_cust['SSN'] == var_ssn)\n",
    "            break\n",
    "        else:\n",
    "            if var_ssn == 0:\n",
    "                break\n",
    "            continue\n",
    "\n",
    "    pd_result = result.toPandas()\n",
    "    while True:\n",
    "        # 123457849\n",
    "        var_option = pyip.inputMenu(list_col, numbered=True)\n",
    "        \n",
    "        if var_option == \"FIRST_NAME\": \n",
    "            print(f\"Existing value : {pd_result.loc[0,'FIRST_NAME']}\")\n",
    "            var_first_name = pyip.inputStr(\"Enter new FIRST NAME : \")\n",
    "            pd_result.loc[0,'FIRST_NAME']= var_first_name\n",
    "            print(pd_result.loc[0,'FIRST_NAME'])\n",
    "        elif var_option == \"MIDDLE_NAME\": \n",
    "            print(f\"Existing value : {pd_result.loc[0,'MIDDLE_NAME']}\")\n",
    "            var_middle_name = pyip.inputStr(\"Enter new MIDDLE NAME : \")\n",
    "            pd_result.loc[0,'MIDDLE_NAME']= var_middle_name\n",
    "            print(pd_result.loc[0,'MIDDLE_NAME'])\n",
    "        elif var_option == \"LAST_NAME\": \n",
    "            print(f\"Existing value : {pd_result.loc[0,'LAST_NAME']}\")\n",
    "            var_last_name = pyip.inputStr(\"Enter new LAST NAME : \")\n",
    "            pd_result.loc[0,'LAST_NAME'] = var_last_name\n",
    "            print(pd_result.loc[0,'LAST_NAME'])\n",
    "        elif var_option == \"CUST_EMAIL\": \n",
    "            print(f\"Existing value : {pd_result.loc[0,'CUST_EMAIL']}\")\n",
    "            var_email = pyip.inputEmail(\"Enter new EMAIL : \")\n",
    "            pd_result.loc[0,'CUST_EMAIL'] = var_email\n",
    "            print(pd_result.loc[0,'CUST_EMAIL'])\n",
    "        elif var_option == \"CUST_PHONE\": \n",
    "            print(f\"Existing value : {pd_result.loc[0,'CUST_PHONE']}\")\n",
    "            var_phone = pyip.inputInt(\"Enter new PHONE (xxx)xxx-xxxx : \")\n",
    "            if len(str(var_phone)) != 10:\n",
    "                print(\"Invalid Phone Number!\")\n",
    "                continue\n",
    "            pd_result.loc[0,'CUST_PHONE'] = '('+str(var_phone)[0:3] + ')'+ str(var_phone)[3:6] + '-' + str(var_phone)[6:]\n",
    "            print(pd_result.loc[0,'CUST_PHONE'])\n",
    "        elif var_option == \"FULL_STREET_ADDRESS\":\n",
    "            print(f\"Existing value : {pd_result.loc[0,'FULL_STREET_ADDRESS']}\")\n",
    "            var_address = pyip.inputStr(\"Enter new ADDRESS : \")\n",
    "            pd_result.loc[0,'FULL_STREET_ADDRESS'] = var_address\n",
    "            print(pd_result.loc[0,'FULL_STREET_ADDRESS'])\n",
    "        elif var_option == \"CUST_CITY\": \n",
    "            print(f\"Existing value : {pd_result.loc[0,'CUST_CITY']}\")\n",
    "            var_city = pyip.inputStr(\"Enter new CITY : \")\n",
    "            pd_result.loc[0,'CUST_CITY'] = var_city\n",
    "            print(pd_result.loc[0,'CUST_CITY'] )\n",
    "        elif var_option == \"CUST_STATE\": \n",
    "            print(f\"Existing value : {pd_result.loc[0,'CUST_STATE']}\")\n",
    "            var_state = pyip.inputStr(\"Enter new STATE : \")\n",
    "            pd_result.loc[0,'CUST_STATE'] = var_state\n",
    "            print(pd_result.loc[0,'CUST_STATE'])\n",
    "        elif var_option == \"CUST_ZIP\": \n",
    "            print(f\"Existing value : {pd_result.loc[0,'CUST_ZIP']}\")\n",
    "            var_zip = pyip.inputZip(\"Enter new ZIPCODE : \")\n",
    "            pd_result.loc[0,'CUST_ZIP'] = var_zip\n",
    "            print(pd_result.loc[0,'CUST_ZIP'])\n",
    "        elif var_option == 'EXIT':\n",
    "            upd_query = \"UPDATE cdw_sapp_customer SET \\\n",
    "FIRST_NAME = '{}', MIDDLE_NAME = '{}', LAST_NAME = '{}', CUST_EMAIL = '{}', \\\n",
    "CUST_PHONE = '{}', FULL_STREET_ADDRESS = '{}', CUST_CITY = '{}', \\\n",
    "CUST_STATE = '{}', CUST_ZIP = {} WHERE SSN = {}\".format(pd_result.loc[0, 'FIRST_NAME'], \\\n",
    "pd_result.loc[0, 'MIDDLE_NAME'], pd_result.loc[0, 'LAST_NAME'], pd_result.loc[0, 'CUST_EMAIL'], \\\n",
    "pd_result.loc[0, 'CUST_PHONE'], pd_result.loc[0, 'FULL_STREET_ADDRESS'], pd_result.loc[0, 'CUST_CITY'], \\\n",
    "pd_result.loc[0, 'CUST_STATE'], pd_result.loc[0, 'CUST_ZIP'], var_ssn)\n",
    "            print(upd_query)\n",
    "            \n",
    "            try:\n",
    "                connection = pymysql.connect(\n",
    "                host='localhost',\n",
    "                user='root',\n",
    "                password='password',\n",
    "                database='creditcard_capstone')\n",
    "                print(\"Database connection successful!\")\n",
    "\n",
    "                cursor = connection.cursor()\n",
    "                cursor.execute(upd_query)\n",
    "                print(\"Record updated successfully!!\")\n",
    "                connection.commit()\n",
    "                cursor.close()\n",
    "                connection.close()\n",
    "            except:\n",
    "                print(\"Database Connection error. Update failed!\")\n",
    "            break\n",
    "\n",
    "\n",
    "while True:\n",
    "    var_ans = pyip.inputStr(\"Would you like to update Customer Information? (Y/N) : \")\n",
    "    # var_ans\n",
    "    if validate_ans(var_ans):\n",
    "        edit_info()\n",
    "        upd_query = \"\"\n",
    "        break\n",
    "    else:\n",
    "        if var_ans == 'N':\n",
    "            break\n",
    "        continue\n"
   ]
  },
  {
   "attachments": {},
   "cell_type": "markdown",
   "metadata": {},
   "source": [
    "From Mary Dayana to Everyone 10:47 PM\n",
    "connection = pymysql.connect(\n",
    "    host='localhost',\n",
    "    user='root',\n",
    "    password='password',\n",
    "    database='creditcard_capstone'\n",
    ")\n",
    "cursor = connection.cursor()\n",
    "sql = \"SELECT * FROM CDW_SAPP_loan_application\"\n",
    "cursor.execute(sql)\n",
    "result_set = cursor.fetchall()\n",
    "data_frame = psql.read_sql(sql, con=connection)\n",
    "pd.set_option(\"display.max_columns\", None)\n",
    "#print(data_frame.head())\n",
    "cursor.close()\n"
   ]
  },
  {
   "cell_type": "code",
   "execution_count": null,
   "metadata": {},
   "outputs": [],
   "source": [
    "var_phone = 1234567890\n",
    "print('(' + str(var_phone)[0:3] + ')'+ str(var_phone)[3:6] + '-' + str(var_phone)[6:])\n",
    "# str(var_phone)[0:3]"
   ]
  },
  {
   "cell_type": "code",
   "execution_count": null,
   "metadata": {},
   "outputs": [],
   "source": [
    "# pyip.inputRegexStr(prompt=\"Enter new PHONE (xxx)xxx-xxxx : \", allowRegexes= [r'd{3}-d{3}-d{4}'])\n",
    "# # type(var)"
   ]
  }
 ],
 "metadata": {
  "kernelspec": {
   "display_name": "capenv",
   "language": "python",
   "name": "python3"
  },
  "language_info": {
   "codemirror_mode": {
    "name": "ipython",
    "version": 3
   },
   "file_extension": ".py",
   "mimetype": "text/x-python",
   "name": "python",
   "nbconvert_exporter": "python",
   "pygments_lexer": "ipython3",
   "version": "3.10.4"
  },
  "orig_nbformat": 4,
  "vscode": {
   "interpreter": {
    "hash": "18ca8625cc90478395c078d47e945be01e36895d904b6e6fc3f4a08c3080455c"
   }
  }
 },
 "nbformat": 4,
 "nbformat_minor": 2
}
