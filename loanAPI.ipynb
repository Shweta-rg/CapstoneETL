{
 "cells": [
  {
   "cell_type": "code",
   "execution_count": 1,
   "metadata": {},
   "outputs": [],
   "source": [
    "import requests\n",
    "import json\n",
    "from pprint import pp\n",
    "import pandas as pd\n",
    "import pyspark"
   ]
  },
  {
   "cell_type": "code",
   "execution_count": 2,
   "metadata": {},
   "outputs": [],
   "source": [
    "import findspark\n",
    "findspark.init()\n",
    "findspark.find()\n",
    "\n",
    "from pyspark.sql import SparkSession\n",
    "from pyspark.sql.functions import*\n",
    "\n",
    "from pyspark.sql.types import StructType, StructField, StringType, IntegerType, BooleanType, DoubleType\n",
    "\n",
    "import pandas as pd"
   ]
  },
  {
   "cell_type": "code",
   "execution_count": 3,
   "metadata": {},
   "outputs": [
    {
     "name": "stdout",
     "output_type": "stream",
     "text": [
      "<Response [200]>\n"
     ]
    }
   ],
   "source": [
    "url='https://raw.githubusercontent.com/platformps/LoanDataset/main/loan_data.json'\n",
    "resposne=requests.get(url)\n",
    "print(resposne)\n",
    "r=resposne.json()"
   ]
  },
  {
   "cell_type": "code",
   "execution_count": 14,
   "metadata": {},
   "outputs": [
    {
     "name": "stdout",
     "output_type": "stream",
     "text": [
      "    Application_ID  Gender Married Dependents     Education Self_Employed  \\\n",
      "0         LP001002    Male      No          0      Graduate            No   \n",
      "1         LP001003    Male     Yes          1      Graduate            No   \n",
      "2         LP001005    Male     Yes          0      Graduate           Yes   \n",
      "3         LP001006    Male     Yes          0  Not Graduate            No   \n",
      "4         LP001008    Male      No          0      Graduate            No   \n",
      "..             ...     ...     ...        ...           ...           ...   \n",
      "506       LP002978  Female      No          0      Graduate            No   \n",
      "507       LP002979    Male     Yes         3+      Graduate            No   \n",
      "508       LP002983    Male     Yes          1      Graduate            No   \n",
      "509       LP002984    Male     Yes          2      Graduate            No   \n",
      "510       LP002990  Female      No          0      Graduate           Yes   \n",
      "\n",
      "     Credit_History Property_Area  Income Application_Status  \n",
      "0                 1         Urban  medium                  Y  \n",
      "1                 1         Rural  medium                  N  \n",
      "2                 1         Urban     low                  Y  \n",
      "3                 1         Urban     low                  Y  \n",
      "4                 1         Urban  medium                  Y  \n",
      "..              ...           ...     ...                ...  \n",
      "506               1         Rural     low                  Y  \n",
      "507               1         Rural  medium                  Y  \n",
      "508               1         Urban  medium                  Y  \n",
      "509               1         Urban  medium                  Y  \n",
      "510               0     Semiurban  medium                  N  \n",
      "\n",
      "[511 rows x 10 columns]\n"
     ]
    }
   ],
   "source": [
    "#df_loaneligible=pd.DataFrame(r)\n",
    "df = pd.json_normalize(r)\n",
    "pp(df)"
   ]
  },
  {
   "cell_type": "code",
   "execution_count": 10,
   "metadata": {},
   "outputs": [],
   "source": [
    "spark = SparkSession.builder.appName(\"loan\").getOrCreate()"
   ]
  },
  {
   "cell_type": "code",
   "execution_count": 11,
   "metadata": {},
   "outputs": [
    {
     "name": "stderr",
     "output_type": "stream",
     "text": [
      "c:\\Python310\\lib\\site-packages\\pyspark\\sql\\pandas\\conversion.py:474: FutureWarning: iteritems is deprecated and will be removed in a future version. Use .items instead.\n",
      "  for column, series in pdf.iteritems():\n",
      "c:\\Python310\\lib\\site-packages\\pyspark\\sql\\pandas\\conversion.py:486: FutureWarning: iteritems is deprecated and will be removed in a future version. Use .items instead.\n",
      "  for column, series in pdf.iteritems():\n"
     ]
    },
    {
     "name": "stdout",
     "output_type": "stream",
     "text": [
      "root\n",
      " |-- Application_ID: string (nullable = true)\n",
      " |-- Gender: string (nullable = true)\n",
      " |-- Married: string (nullable = true)\n",
      " |-- Dependents: string (nullable = true)\n",
      " |-- Education: string (nullable = true)\n",
      " |-- Self_Employed: string (nullable = true)\n",
      " |-- Credit_History: long (nullable = true)\n",
      " |-- Property_Area: string (nullable = true)\n",
      " |-- Income: string (nullable = true)\n",
      " |-- Application_Status: string (nullable = true)\n",
      "\n",
      "+--------------+------+-------+----------+------------+-------------+--------------+-------------+------+------------------+\n",
      "|Application_ID|Gender|Married|Dependents|   Education|Self_Employed|Credit_History|Property_Area|Income|Application_Status|\n",
      "+--------------+------+-------+----------+------------+-------------+--------------+-------------+------+------------------+\n",
      "|      LP001002|  Male|     No|         0|    Graduate|           No|             1|        Urban|medium|                 Y|\n",
      "|      LP001003|  Male|    Yes|         1|    Graduate|           No|             1|        Rural|medium|                 N|\n",
      "|      LP001005|  Male|    Yes|         0|    Graduate|          Yes|             1|        Urban|   low|                 Y|\n",
      "|      LP001006|  Male|    Yes|         0|Not Graduate|           No|             1|        Urban|   low|                 Y|\n",
      "|      LP001008|  Male|     No|         0|    Graduate|           No|             1|        Urban|medium|                 Y|\n",
      "|      LP001011|  Male|    Yes|         2|    Graduate|          Yes|             1|        Urban|medium|                 Y|\n",
      "|      LP001013|  Male|    Yes|         0|Not Graduate|           No|             1|        Urban|   low|                 Y|\n",
      "|      LP001014|  Male|    Yes|        3+|    Graduate|           No|             0|    Semiurban|   low|                 N|\n",
      "|      LP001018|  Male|    Yes|         2|    Graduate|           No|             1|        Urban|medium|                 Y|\n",
      "|      LP001020|  Male|    Yes|         1|    Graduate|           No|             1|    Semiurban|  high|                 N|\n",
      "|      LP001024|  Male|    Yes|         2|    Graduate|           No|             1|        Urban|   low|                 Y|\n",
      "|      LP001028|  Male|    Yes|         2|    Graduate|           No|             1|        Urban|   low|                 Y|\n",
      "|      LP001029|  Male|     No|         0|    Graduate|           No|             1|        Rural|   low|                 N|\n",
      "|      LP001030|  Male|    Yes|         2|    Graduate|           No|             1|        Urban|   low|                 Y|\n",
      "|      LP001032|  Male|     No|         0|    Graduate|           No|             1|        Urban|medium|                 Y|\n",
      "|      LP001036|Female|     No|         0|    Graduate|           No|             0|        Urban|   low|                 N|\n",
      "|      LP001038|  Male|    Yes|         0|Not Graduate|           No|             1|        Rural|medium|                 N|\n",
      "|      LP001043|  Male|    Yes|         0|Not Graduate|           No|             0|        Urban|medium|                 N|\n",
      "|      LP001046|  Male|    Yes|         1|    Graduate|           No|             1|        Urban|medium|                 Y|\n",
      "|      LP001047|  Male|    Yes|         0|Not Graduate|           No|             0|    Semiurban|   low|                 N|\n",
      "+--------------+------+-------+----------+------------+-------------+--------------+-------------+------+------------------+\n",
      "only showing top 20 rows\n",
      "\n"
     ]
    }
   ],
   "source": [
    "sploanDF=spark.createDataFrame(df) \n",
    "sploanDF.printSchema()\n",
    "sploanDF.show()\n"
   ]
  },
  {
   "cell_type": "code",
   "execution_count": null,
   "metadata": {},
   "outputs": [],
   "source": [
    "jdbc_url = \"jdbc:mysql://localhost:3306/creditcard_capstone\"\n",
    "table_name = 'CDW-SAPP_loan_application'\n",
    "properties = {'user': 'root', 'password': 'password'}\n",
    "\n",
    "sploanDF.write.jdbc(url=jdbc_url, table=table_name, mode='append', properties=properties)"
   ]
  },
  {
   "cell_type": "code",
   "execution_count": 15,
   "metadata": {},
   "outputs": [],
   "source": [
    "sploanDF.write.format(\"jdbc\") \\\n",
    "  .mode(\"append\") \\\n",
    "  .option(\"url\", \"jdbc:mysql://localhost:3306/creditcard_capstone\") \\\n",
    "  .option(\"dbtable\", \"CDW_SAPP_loan_application\") \\\n",
    "  .option(\"user\", \"root\") \\\n",
    "  .option(\"password\", \"password\") \\\n",
    "  .save()"
   ]
  }
 ],
 "metadata": {
  "kernelspec": {
   "display_name": "Python 3",
   "language": "python",
   "name": "python3"
  },
  "language_info": {
   "codemirror_mode": {
    "name": "ipython",
    "version": 3
   },
   "file_extension": ".py",
   "mimetype": "text/x-python",
   "name": "python",
   "nbconvert_exporter": "python",
   "pygments_lexer": "ipython3",
   "version": "3.10.4"
  },
  "orig_nbformat": 4,
  "vscode": {
   "interpreter": {
    "hash": "369f2c481f4da34e4445cda3fffd2e751bd1c4d706f27375911949ba6bb62e1c"
   }
  }
 },
 "nbformat": 4,
 "nbformat_minor": 2
}
