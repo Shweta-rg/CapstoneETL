{
 "cells": [
  {
   "cell_type": "code",
   "execution_count": null,
   "metadata": {},
   "outputs": [],
   "source": [
    "import pyspark\n",
    "from pyspark.sql import SparkSession\n",
    "from pyspark.sql.functions import *\n",
    "\n",
    "# Creating Spark Session\n",
    "sp = SparkSession.builder.appName(\"Customer\").getOrCreate()"
   ]
  },
  {
   "cell_type": "code",
   "execution_count": null,
   "metadata": {},
   "outputs": [],
   "source": [
    "df_cc = sp.read.format(\"jdbc\") \\\n",
    "    .option(\"url\", \"jdbc:mysql://localhost:3306/creditcard_capstone\") \\\n",
    "    .option(\"dbtable\", \"CDW_SAPP_CREDIT_CARD\") \\\n",
    "    .option(\"user\", \"root\") \\\n",
    "    .option(\"password\", \"password\") \\\n",
    "    .load()\n",
    "\n",
    "df_cust = sp.read.format(\"jdbc\") \\\n",
    "    .option(\"url\", \"jdbc:mysql://localhost:3306/creditcard_capstone\") \\\n",
    "    .option(\"dbtable\", \"CDW_SAPP_CUSTOMER\") \\\n",
    "    .option(\"user\", \"root\") \\\n",
    "    .option(\"password\", \"password\") \\\n",
    "    .load()\n",
    "df_br = sp.read.format(\"jdbc\") \\\n",
    "    .option(\"url\", \"jdbc:mysql://localhost:3306/creditcard_capstone\") \\\n",
    "    .option(\"dbtable\", \"CDW_SAPP_BRANCH\") \\\n",
    "    .option(\"user\", \"root\") \\\n",
    "    .option(\"password\", \"password\") \\\n",
    "    .load()\n",
    "    "
   ]
  },
  {
   "cell_type": "code",
   "execution_count": null,
   "metadata": {},
   "outputs": [],
   "source": [
    "df_cc.show()"
   ]
  },
  {
   "cell_type": "code",
   "execution_count": null,
   "metadata": {},
   "outputs": [],
   "source": [
    "df_cust.show(5)"
   ]
  },
  {
   "cell_type": "code",
   "execution_count": null,
   "metadata": {},
   "outputs": [],
   "source": [
    "\n",
    "df_join = df_cc.join(df_cust, df_cc.CUST_SSN == df_cust.SSN, 'inner').select(col('SSN'), col('CUST_ZIP'), col('TIMEID'), \\\n",
    "      col('TRANSACTION_ID'), col('TRANSACTION_VALUE'))\n",
    "\n",
    "\n"
   ]
  },
  {
   "cell_type": "code",
   "execution_count": null,
   "metadata": {},
   "outputs": [],
   "source": [
    "df_join.show()"
   ]
  },
  {
   "cell_type": "code",
   "execution_count": null,
   "metadata": {},
   "outputs": [],
   "source": [
    "df_join.createOrReplaceTempView('CC_CUST')"
   ]
  },
  {
   "cell_type": "code",
   "execution_count": null,
   "metadata": {},
   "outputs": [],
   "source": [
    "data = sp.sql('select * from CC_CUST where CUST_ZIP == \"53066\" and substr(TIMEID,1,4) == \"2018\" and substr(TIMEID,5,2)==\"06\"')\n",
    "data.show(100)"
   ]
  },
  {
   "attachments": {},
   "cell_type": "markdown",
   "metadata": {},
   "source": [
    "Used to display the transactions made by customers living in a given zip code for a given month and year. Order by day in descending order."
   ]
  },
  {
   "cell_type": "code",
   "execution_count": null,
   "metadata": {},
   "outputs": [],
   "source": [
    "def trans_value(zip,yr,mm):\n",
    "    print(\"inside the function\", zip, yr, mm)\n",
    "    data = sp.sql('select distinct * from CC_CUST where CUST_ZIP == \"{}\" and substr(TIMEID,1,4) == \"{}\" \\\n",
    "        and substr(TIMEID,5,2) == \"{}\" ORDER BY substr(TIMEID,7,2) DESC'.format(zip,yr,mm))\n",
    "    data.show()\n",
    "\n",
    "\n",
    "zip = str(input(\"enter zipcode: \"))\n",
    "yr = str(input(\"enter year: \"))\n",
    "mm = str(input(\"enter month: \"))\n",
    "trans_value(zip,yr,mm)"
   ]
  },
  {
   "attachments": {},
   "cell_type": "markdown",
   "metadata": {},
   "source": [
    "2.. Used to display the number and total values of transactions for a given type."
   ]
  },
  {
   "cell_type": "code",
   "execution_count": null,
   "metadata": {},
   "outputs": [],
   "source": [
    "#using df\n",
    "df_cc.select('transaction_type','transaction_value').groupby('transaction_type').agg(count('transaction_type'), \\\n",
    "    sum('transaction_value')).show()\n"
   ]
  },
  {
   "cell_type": "code",
   "execution_count": null,
   "metadata": {},
   "outputs": [],
   "source": [
    "\n",
    "#using view\n",
    "df_cc.createOrReplaceTempView('cdw_cc')"
   ]
  },
  {
   "cell_type": "code",
   "execution_count": null,
   "metadata": {},
   "outputs": [],
   "source": [
    "data1 = sp.sql('SELECT transaction_type, COUNT(*) as trans_count, \\\n",
    "                round(SUM(transaction_value),2) as trans_val \\\n",
    "                FROM cdw_cc \\\n",
    "                GROUP BY transaction_type')\n"
   ]
  },
  {
   "attachments": {},
   "cell_type": "markdown",
   "metadata": {},
   "source": [
    "# 2.3 Used to display the number and total values of transactions for branches in a given state."
   ]
  },
  {
   "cell_type": "code",
   "execution_count": 46,
   "metadata": {},
   "outputs": [
    {
     "name": "stdout",
     "output_type": "stream",
     "text": [
      "+---+------------+------------+-----------------+\n",
      "|BC1| branch_name|branch_state|transaction_value|\n",
      "+---+------------+------------+-----------------+\n",
      "| 26|Example Bank|          TX|            56.12|\n",
      "| 29|Example Bank|          CA|            17.03|\n",
      "| 26|Example Bank|          TX|            25.01|\n",
      "| 29|Example Bank|          CA|            86.18|\n",
      "| 29|Example Bank|          CA|            66.37|\n",
      "| 26|Example Bank|          TX|            20.14|\n",
      "| 26|Example Bank|          TX|            86.87|\n",
      "| 26|Example Bank|          TX|            20.04|\n",
      "| 29|Example Bank|          CA|            34.93|\n",
      "| 26|Example Bank|          TX|            20.87|\n",
      "| 26|Example Bank|          TX|             80.3|\n",
      "| 29|Example Bank|          CA|           100.81|\n",
      "| 29|Example Bank|          CA|            17.76|\n",
      "| 26|Example Bank|          TX|            58.56|\n",
      "| 26|Example Bank|          TX|            70.19|\n",
      "| 29|Example Bank|          CA|            72.88|\n",
      "| 26|Example Bank|          TX|            12.78|\n",
      "| 29|Example Bank|          CA|            84.42|\n",
      "| 29|Example Bank|          CA|             6.39|\n",
      "| 29|Example Bank|          CA|            47.09|\n",
      "+---+------------+------------+-----------------+\n",
      "only showing top 20 rows\n",
      "\n"
     ]
    }
   ],
   "source": [
    "data_br = df_cc.join(df_br, df_br.BRANCH_CODE == df_cc.BRANCH_CODE, 'inner').select(df_br['branch_code'].alias('BC1'), \\\n",
    "            col('branch_name'), col('branch_state'), col('transaction_value'))\n",
    "data_br.show()"
   ]
  },
  {
   "cell_type": "code",
   "execution_count": 47,
   "metadata": {},
   "outputs": [],
   "source": [
    "data_br.createOrReplaceTempView('data_br_view')\n"
   ]
  },
  {
   "cell_type": "code",
   "execution_count": 48,
   "metadata": {},
   "outputs": [
    {
     "name": "stdout",
     "output_type": "stream",
     "text": [
      "+---+----------+--------------------------------+\n",
      "|bc1|count(bc1)|round(sum(transaction_value), 2)|\n",
      "+---+----------+--------------------------------+\n",
      "|  1|       374|                        18157.57|\n",
      "| 20|       381|                        19350.83|\n",
      "|124|       372|                        18644.89|\n",
      "+---+----------+--------------------------------+\n",
      "\n"
     ]
    }
   ],
   "source": [
    "def trans_by_branch(state):\n",
    "    data1 = sp.sql(\"SELECT bc1, COUNT(bc1), \\\n",
    "                round(SUM(transaction_value),2) \\\n",
    "                FROM data_br_view \\\n",
    "                WHERE BRANCH_STATE == '{}' \\\n",
    "                GROUP BY bc1 \\\n",
    "                ORDER BY bc1\".format(state))\n",
    "    data1.show()\n",
    "\n",
    "state = str(input(\"Enter State : \"))\n",
    "trans_by_branch(state)"
   ]
  }
 ],
 "metadata": {
  "kernelspec": {
   "display_name": "Python 3",
   "language": "python",
   "name": "python3"
  },
  "language_info": {
   "codemirror_mode": {
    "name": "ipython",
    "version": 3
   },
   "file_extension": ".py",
   "mimetype": "text/x-python",
   "name": "python",
   "nbconvert_exporter": "python",
   "pygments_lexer": "ipython3",
   "version": "3.10.4"
  },
  "orig_nbformat": 4,
  "vscode": {
   "interpreter": {
    "hash": "369f2c481f4da34e4445cda3fffd2e751bd1c4d706f27375911949ba6bb62e1c"
   }
  }
 },
 "nbformat": 4,
 "nbformat_minor": 2
}
