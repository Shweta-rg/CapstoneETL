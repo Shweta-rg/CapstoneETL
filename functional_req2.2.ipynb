{
 "cells": [
  {
   "cell_type": "code",
   "execution_count": 1,
   "metadata": {},
   "outputs": [
    {
     "ename": "ModuleNotFoundError",
     "evalue": "No module named 'PyInputPlus'",
     "output_type": "error",
     "traceback": [
      "\u001b[1;31m---------------------------------------------------------------------------\u001b[0m",
      "\u001b[1;31mModuleNotFoundError\u001b[0m                       Traceback (most recent call last)",
      "Cell \u001b[1;32mIn[1], line 5\u001b[0m\n\u001b[0;32m      3\u001b[0m \u001b[39mfrom\u001b[39;00m \u001b[39mpyspark\u001b[39;00m\u001b[39m.\u001b[39;00m\u001b[39msql\u001b[39;00m \u001b[39mimport\u001b[39;00m SparkSession\n\u001b[0;32m      4\u001b[0m \u001b[39mfrom\u001b[39;00m \u001b[39mpyspark\u001b[39;00m\u001b[39m.\u001b[39;00m\u001b[39msql\u001b[39;00m\u001b[39m.\u001b[39;00m\u001b[39mfunctions\u001b[39;00m \u001b[39mimport\u001b[39;00m \u001b[39m*\u001b[39m\n\u001b[1;32m----> 5\u001b[0m \u001b[39mimport\u001b[39;00m \u001b[39mPyInputPlus\u001b[39;00m \u001b[39mas\u001b[39;00m \u001b[39mpyip\u001b[39;00m\n\u001b[0;32m      6\u001b[0m \u001b[39m# Creating Spark Session\u001b[39;00m\n\u001b[0;32m      7\u001b[0m sp \u001b[39m=\u001b[39m SparkSession\u001b[39m.\u001b[39mbuilder\u001b[39m.\u001b[39mappName(\u001b[39m\"\u001b[39m\u001b[39mCustomer\u001b[39m\u001b[39m\"\u001b[39m)\u001b[39m.\u001b[39mgetOrCreate()\n",
      "\u001b[1;31mModuleNotFoundError\u001b[0m: No module named 'PyInputPlus'"
     ]
    }
   ],
   "source": [
    "import pyspark as py\n",
    "import pandas as pd\n",
    "from pyspark.sql import SparkSession\n",
    "from pyspark.sql.functions import *\n",
    "import PyInputPlus as pyip\n",
    "# Creating Spark Session\n",
    "sp = SparkSession.builder.appName(\"Customer\").getOrCreate()"
   ]
  },
  {
   "cell_type": "code",
   "execution_count": 3,
   "metadata": {},
   "outputs": [],
   "source": [
    "df_cust = sp.read.format(\"jdbc\") \\\n",
    "    .option(\"url\", \"jdbc:mysql://localhost:3306/creditcard_capstone\") \\\n",
    "    .option(\"dbtable\", \"CDW_SAPP_CUSTOMER\") \\\n",
    "    .option(\"user\", \"root\") \\\n",
    "    .option(\"password\", \"password\") \\\n",
    "    .load()"
   ]
  },
  {
   "cell_type": "code",
   "execution_count": null,
   "metadata": {},
   "outputs": [],
   "source": [
    "df_pd_cust = df_cust.toPandas()\n",
    "\n",
    "list_ssn = list(df_pd_cust['SSN'])\n",
    "list_ssn"
   ]
  },
  {
   "cell_type": "code",
   "execution_count": null,
   "metadata": {},
   "outputs": [],
   "source": [
    "var_ssn=input(\"Enter 9-digit SSN\")\n"
   ]
  },
  {
   "cell_type": "code",
   "execution_count": null,
   "metadata": {},
   "outputs": [],
   "source": [
    "#can try with loc as well \n",
    "df_pd_cust.loc[df_pd_cust.loc[:,'SSN'] == 123452342,:].head()\n"
   ]
  },
  {
   "cell_type": "code",
   "execution_count": null,
   "metadata": {},
   "outputs": [],
   "source": [
    "list_col = ['FIRST_NAME', 'MIDDLE_NAME', 'LAST_NAME', 'CUST_EMAIL', 'CUST_PHONE', 'FULL_STREET_ADDRESS', 'CUST_CITY', \\\n",
    "                'CUST_STATE', 'CUST_ZIP', 'EXIT']\n",
    "def validate_ssn(var_ssn):\n",
    "    if var_ssn in list_ssn:\n",
    "        return True\n",
    "    else:\n",
    "        if var_ssn != 0:\n",
    "            print(\"Not a valid SSN. Try again or enter 0 to exit\")\n",
    "        return False\n",
    "def show_info(var_ssn):\n",
    "    result = df_cust.where(df_cust['SSN'] == var_ssn)\n",
    "    result['FIRST_NAME', 'MIDDLE_NAME', 'LAST_NAME', 'CUST_EMAIL', 'CUST_PHONE', 'FULL_STREET_ADDRESS', 'CUST_CITY', \\\n",
    "                'CUST_STATE', 'CUST_ZIP', 'CREDIT_CARD_NO'].show()\n",
    "def validate_ans(var_ans):\n",
    "    if var_ans == 'Y' :\n",
    "        return True\n",
    "    else:\n",
    "        if var_ans != 'N':\n",
    "            print(\"Enter Y to edit or N to exit\")\n",
    "        return False\n",
    "def edit_info():\n",
    "    while True:\n",
    "        var_ssn = pyip.inputInt(\"Enter 9-digit SSN : \")\n",
    "        if validate_ssn(var_ssn):\n",
    "            show_info(var_ssn)\n",
    "            break\n",
    "        else:\n",
    "            if var_ssn == 0:\n",
    "                break\n",
    "            continue\n",
    "    while True:\n",
    "        print(list_col)\n",
    "        var_option = pyip.inputMenu(list_col, numbered=True)\n",
    "        print(var_option)\n",
    "        pd_result = result.toPandas()\n",
    "        if var_option == \"FIRST_NAME\":\n",
    "            var_first_name = pyip.inputStr(\"Enter new FIRST NAME : \")\n",
    "            print(var_first_name)\n",
    "            print(result[var_option])\n",
    "            # pd_result[var_option] = pd_result[var_option].replace(result[var_option], var_first_name)\n",
    "            print(pd_result)\n",
    "            pd_result.loc[0,'FIRST_NAME']= var_first_name\n",
    "            print(pd_result)\n",
    "        elif var_option == 'EXIT':\n",
    "            break\n",
    "while True:\n",
    "    var_ans = pyip.inputStr(\"Would you like to update Customer Information? (Y/N) : \")\n",
    "    # var_ans\n",
    "    if validate_ans(var_ans):\n",
    "        edit_info()\n",
    "        break\n",
    "    else:\n",
    "        if var_ans == 'N':\n",
    "            break\n",
    "        continue"
   ]
  }
 ],
 "metadata": {
  "kernelspec": {
   "display_name": "Python 3",
   "language": "python",
   "name": "python3"
  },
  "language_info": {
   "codemirror_mode": {
    "name": "ipython",
    "version": 3
   },
   "file_extension": ".py",
   "mimetype": "text/x-python",
   "name": "python",
   "nbconvert_exporter": "python",
   "pygments_lexer": "ipython3",
   "version": "3.10.4"
  },
  "orig_nbformat": 4,
  "vscode": {
   "interpreter": {
    "hash": "369f2c481f4da34e4445cda3fffd2e751bd1c4d706f27375911949ba6bb62e1c"
   }
  }
 },
 "nbformat": 4,
 "nbformat_minor": 2
}
