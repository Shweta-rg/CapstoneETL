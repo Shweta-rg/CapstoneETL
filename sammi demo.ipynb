{
 "cells": [
  {
   "cell_type": "code",
   "execution_count": null,
   "metadata": {},
   "outputs": [],
   "source": [
    "import pyinputplus as pyip\n",
    "\n",
    "print(\"Calculator Menu\")\n",
    "print(\"1.Add\")\n",
    "print(\"2.Subtract\")\n",
    "print(\"3.Multiply\")\n",
    "print(\"4.Divide\")\n"
   ]
  },
  {
   "cell_type": "code",
   "execution_count": null,
   "metadata": {},
   "outputs": [],
   "source": [
    "while True: \n",
    "    menu= pyip.inputMenu(['Add', 'Subtract', 'Multiply', 'Divide', 'Exit'], numbered=True)\n",
    "\n",
    "\n",
    "#selection= pyip.inputInt(\"Choose a numeric selection from above: \", min=1)\n",
    "\n",
    "    if menu == \"Add\":\n",
    "        print(\"this is the option to add two numbers\")\n",
    "        num1= int(input(\"Enter the first number: \"))\n",
    "        num2= int(input(\"Enter the second number: \"))\n",
    "    #total= num1+ num2\n",
    "        print(\"The total for those numbers is \" + str(num1 +num2))\n",
    "    elif menu == \"Subtract\":\n",
    "        print(\"this is the option to subtract two numbers\")\n",
    "        num1= int(input(\"Enter the first number: \"))\n",
    "        num2= int(input(\"Enter the second number: \"))\n",
    "    #total= num1+ num2\n",
    "        print(\"The total for those numbers is \" + str(num1 - num2))\n",
    "    elif menu == \"Multiply\": \n",
    "        pass\n",
    "    elif menu == \"Divide\":\n",
    "        pass\n",
    "    elif menu == \"Exit\":\n",
    "        break\n",
    "    else:\n",
    "        print(\"Please make a valid selection\")\n"
   ]
  },
  {
   "cell_type": "code",
   "execution_count": null,
   "metadata": {},
   "outputs": [],
   "source": [
    "list_col = ['FIRST_NAME', 'MIDDLE_NAME', 'LAST_NAME', 'CUST_EMAIL', 'CUST_PHONE', 'FULL_STREET_ADDRESS', 'CUST_CITY', \\\n",
    "                'CUST_STATE', 'CUST_ZIP', 'EXIT']\n",
    "def validate_ssn(var_ssn):\n",
    "    if var_ssn in list_ssn:\n",
    "        return True\n",
    "    else:\n",
    "        if var_ssn != 0:\n",
    "            print(\"Not a valid SSN. Try again or enter 0 to exit\")\n",
    "        return False\n",
    "def show_info(var_ssn):\n",
    "    result = df_cust.where(df_cust['SSN'] == var_ssn)\n",
    "    result['FIRST_NAME', 'MIDDLE_NAME', 'LAST_NAME', 'CUST_EMAIL', 'CUST_PHONE', 'FULL_STREET_ADDRESS', 'CUST_CITY', \\\n",
    "                'CUST_STATE', 'CUST_ZIP', 'CREDIT_CARD_NO'].show()\n",
    "def validate_ans(var_ans):\n",
    "    if var_ans == 'Y' :\n",
    "        return True\n",
    "    else:\n",
    "        if var_ans != 'N':\n",
    "            print(\"Enter Y to edit or N to exit\")\n",
    "        return False\n",
    "def edit_info():\n",
    "    while True:\n",
    "        var_ssn = pyip.inputInt(\"Enter 9-digit SSN : \")\n",
    "        if validate_ssn(var_ssn):\n",
    "            show_info(var_ssn)\n",
    "            break\n",
    "        else:\n",
    "            if var_ssn == 0:\n",
    "                break\n",
    "            continue\n",
    "    while True:\n",
    "        print(list_col)\n",
    "        var_option = pyip.inputMenu(list_col, numbered=True)\n",
    "        print(var_option)\n",
    "        pd_result = result.toPandas()\n",
    "        if var_option == \"FIRST_NAME\":\n",
    "            var_first_name = pyip.inputStr(\"Enter new FIRST NAME : \")\n",
    "            print(var_first_name)\n",
    "            print(result[var_option])\n",
    "            # pd_result[var_option] = pd_result[var_option].replace(result[var_option], var_first_name)\n",
    "            print(pd_result)\n",
    "            pd_result.loc[0,'FIRST_NAME']= var_first_name\n",
    "            print(pd_result)\n",
    "        elif var_option == 'EXIT':\n",
    "            break\n",
    "while True:\n",
    "    var_ans = pyip.inputStr(\"Would you like to update Customer Information? (Y/N) : \")\n",
    "    # var_ans\n",
    "    if validate_ans(var_ans):\n",
    "        edit_info()\n",
    "        break\n",
    "    else:\n",
    "        if var_ans == 'N':\n",
    "            break\n",
    "        continue\n"
   ]
  }
 ],
 "metadata": {
  "kernelspec": {
   "display_name": "Python 3",
   "language": "python",
   "name": "python3"
  },
  "language_info": {
   "name": "python",
   "version": "3.10.4"
  },
  "orig_nbformat": 4,
  "vscode": {
   "interpreter": {
    "hash": "369f2c481f4da34e4445cda3fffd2e751bd1c4d706f27375911949ba6bb62e1c"
   }
  }
 },
 "nbformat": 4,
 "nbformat_minor": 2
}
