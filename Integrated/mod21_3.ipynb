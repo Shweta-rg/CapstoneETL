{
 "cells": [
  {
   "cell_type": "code",
   "execution_count": 5,
   "metadata": {},
   "outputs": [],
   "source": [
    "import pyspark as py\n",
    "import pandas as pd\n",
    "from pyspark.sql import SparkSession\n",
    "from pyspark.sql.functions import *\n",
    "import pyinputplus as pyip\n",
    "# import pymysql\n",
    "\n",
    "# Creating Spark Session\n",
    "sp = SparkSession.builder.appName(\"Customer\").getOrCreate()\n",
    "\n",
    "df_sp_br = sp.read.format(\"jdbc\") \\\n",
    "    .option(\"url\", \"jdbc:mysql://localhost:3306/creditcard_capstone\")  \\\n",
    "    .option(\"dbtable\", \"cdw_sapp_branch\") \\\n",
    "    .option(\"user\", \"root\") \\\n",
    "    .option(\"password\", \"password\") \\\n",
    "    .load()"
   ]
  },
  {
   "cell_type": "code",
   "execution_count": null,
   "metadata": {},
   "outputs": [],
   "source": []
  },
  {
   "cell_type": "code",
   "execution_count": 6,
   "metadata": {},
   "outputs": [
    {
     "name": "stderr",
     "output_type": "stream",
     "text": [
      "c:\\Users\\ngupt\\OneDrive\\Desktop\\perschoolas\\CapstoneETL\\capenv\\lib\\site-packages\\pyspark\\sql\\pandas\\conversion.py:248: FutureWarning: Passing unit-less datetime64 dtype to .astype is deprecated and will raise in a future version. Pass 'datetime64[ns]' instead\n",
      "  series = series.astype(t, copy=False)\n"
     ]
    },
    {
     "data": {
      "text/plain": [
       "['MN',\n",
       " 'IL',\n",
       " 'NY',\n",
       " 'FL',\n",
       " 'PA',\n",
       " 'NJ',\n",
       " 'CT',\n",
       " 'OH',\n",
       " 'MI',\n",
       " 'KY',\n",
       " 'MD',\n",
       " 'WA',\n",
       " 'CA',\n",
       " 'TX',\n",
       " 'NC',\n",
       " 'VA',\n",
       " 'GA',\n",
       " 'MT',\n",
       " 'AR',\n",
       " 'MS',\n",
       " 'WI',\n",
       " 'IN',\n",
       " 'SC',\n",
       " 'MA',\n",
       " 'IA',\n",
       " 'AL']"
      ]
     },
     "execution_count": 6,
     "metadata": {},
     "output_type": "execute_result"
    }
   ],
   "source": [
    "pd_branch=df_sp_br.toPandas()\n",
    "list_state=list(pd_branch['BRANCH_STATE'].drop_duplicates())\n",
    "list_state"
   ]
  },
  {
   "cell_type": "code",
   "execution_count": 10,
   "metadata": {},
   "outputs": [
    {
     "name": "stdout",
     "output_type": "stream",
     "text": [
      "enter state(0 to exit):+-----------+------------------+------------------+\n",
      "|BRANCH_CODE|             TOTAL|count(branch_code)|\n",
      "+-----------+------------------+------------------+\n",
      "|        124| 18644.88999999997|               372|\n",
      "|          1|18157.570000000018|               374|\n",
      "|         20|19350.830000000005|               381|\n",
      "+-----------+------------------+------------------+\n",
      "\n",
      "enter state(0 to exit):+-----------+------------------+------------------+\n",
      "|BRANCH_CODE|             TOTAL|count(branch_code)|\n",
      "+-----------+------------------+------------------+\n",
      "|        124| 18644.88999999997|               372|\n",
      "|          1|18157.570000000018|               374|\n",
      "|         20|19350.830000000005|               381|\n",
      "+-----------+------------------+------------------+\n",
      "\n",
      "enter state(0 to exit):"
     ]
    }
   ],
   "source": [
    "# 2.3 Used to display the number and total values of transactions for branches in a given state.\n",
    "def show_tranbybranch(df_sp_cc_br,state):\n",
    "    print(\"State:\",state)\n",
    "    data=df_sp_cc_br.select('branch_code','transaction_value')\\\n",
    "            .where(df_sp_cc_br['BRANCH_STATE'] == \\\n",
    "                state).groupby('BRANCH_CODE').\\\n",
    "                agg(sum('transaction_value').alias('TOTAL'), count('branch_code'))\n",
    "    data.show()\n",
    "\n",
    "\n",
    "while True:\n",
    "    query2= \"(SELECT br.branch_code , br.branch_state,cc.transaction_value \\\n",
    "        FROM cdw_sapp_credit_card as cc \\\n",
    "        JOIN cdw_sapp_branch as br ON cc.BRANCH_CODE = br.BRANCH_CODE) as b\"\n",
    "\n",
    "    df_sp_cc_br = sp.read.format(\"jdbc\") \\\n",
    "        .option(\"url\", \"jdbc:mysql://localhost:3306/creditcard_capstone\") \\\n",
    "        .option(\"dbtable\", query2) \\\n",
    "        .option(\"user\", \"root\") \\\n",
    "        .option(\"password\", \"password\") \\\n",
    "        .load()\n",
    "    \n",
    "    state=pyip.inputStr(\"enter state(0 to exit):\")\n",
    "    if state.upper() in list_state:\n",
    "        show_tranbybranch(df_sp_cc_br,state)\n",
    "    elif state=='0':\n",
    "        break\n",
    "    else:\n",
    "        print(\"enter a valid state\")\n",
    "        continue\n",
    "    \n",
    "\n",
    "\n",
    "    #show_tranbybranch(df_sp_cc_br, state)\n",
    "    \n",
    "  \n",
    "\n",
    "\n"
   ]
  }
 ],
 "metadata": {
  "kernelspec": {
   "display_name": "capenv",
   "language": "python",
   "name": "python3"
  },
  "language_info": {
   "codemirror_mode": {
    "name": "ipython",
    "version": 3
   },
   "file_extension": ".py",
   "mimetype": "text/x-python",
   "name": "python",
   "nbconvert_exporter": "python",
   "pygments_lexer": "ipython3",
   "version": "3.10.4"
  },
  "orig_nbformat": 4,
  "vscode": {
   "interpreter": {
    "hash": "18ca8625cc90478395c078d47e945be01e36895d904b6e6fc3f4a08c3080455c"
   }
  }
 },
 "nbformat": 4,
 "nbformat_minor": 2
}
